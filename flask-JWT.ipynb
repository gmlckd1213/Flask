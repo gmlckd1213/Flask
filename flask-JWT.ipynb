{
 "cells": [
  {
   "cell_type": "markdown",
   "id": "fifty-modification",
   "metadata": {},
   "source": [
    "# Flask JWT"
   ]
  },
  {
   "cell_type": "markdown",
   "id": "running-exclusive",
   "metadata": {},
   "source": [
    "## JWT(JSON Web Toke)란?<br>\n",
    "웹표준(RFC 7519)으로서두개체에서JSON 객체를사용하여통신합니다.\n",
    "- JSON 포맷을이용하여사용자에대한속성을저장하는Web Token\n",
    "- 토큰자체를정보로사용하는Self-Contained 방식으로정보를안정하게전달\n"
   ]
  },
  {
   "cell_type": "markdown",
   "id": "consolidated-engineering",
   "metadata": {},
   "source": [
    "### JWT의 생김새 <br>\n",
    "## **header.payload.signature**<br>\n",
    "Header에는 토큰의 타입과 알고리즘을 저장합니다.<br>\n",
    "Payload에는 토큰에 담을 정보를 넣습니다.<br>\n",
    "Signature에는 헤더와 정보의 인코딩 값들과 관련된 비밀키가 들어있습니다."
   ]
  },
  {
   "cell_type": "markdown",
   "id": "amino-juice",
   "metadata": {},
   "source": [
    "## JWT구조<br>\n",
    "header,payload,signature 3가지로 이루어지며, JSON형태인 각 부분은 Base64로 인코딩되어 표현된다.<br>\n",
    "각각의 부분을 이어주기 위해 구분자를 사용하여 구분한다.<br>\n",
    "Base64는 암호화된 문자열이 아니고, 동일한 문자열에 대해 항상 같은 인코딩 문자열을 반환한다."
   ]
  },
  {
   "cell_type": "markdown",
   "id": "beautiful-egyptian",
   "metadata": {},
   "source": [
    "## Header<br>\n",
    "토큰의 헤더는 typ와 alg 총 두 가지 정보로 구성된다.\n",
    "- typ : 토큰의 타입을 지정한다.\n",
    "- alg : 알고리즘 방식을 지정한다.(서명 및 토큰 검증에 사용)"
   ]
  },
  {
   "cell_type": "markdown",
   "id": "funky-smell",
   "metadata": {},
   "source": [
    "## Payload<br>\n",
    "토큰의 Payload에는 토큰에서 사용할 정보의 조각들인 *클레임(claim)* 이 담겨 있다.<br>\n",
    "클레임은 총 3가지로 나누어지며, JSON 형태로 다수의 정소를 넣을 수 있다.<br>\n",
    "\n",
    "### 1. 등록된 클레임<br>\n",
    "토큰 정보를 표현하기 위해 이미 정해진 종류의 데이터이다. 모두 선택적으로 작성이 가능하며 사용하는 것을 권장한다.<br>\n",
    "### 2. 공개 클레임<br>\n",
    "충돌이 방지된 이름을 가지고 있어야한다. 충돌을 방지하기 위해 클레임 이름을 URI형식으로 짓는다.<br>\n",
    "ex) {https://elice.io: true}<br>\n",
    "### 3. 비공개 클레임<br>\n",
    "등록과 공개를 제외한 클레임이자 사용자 정의 클레임으로 서버와 클라이언트 협의로 사용되는 클레임이다. 서버와클라이언트 사이에 임의로 지정한 정보를 저장한다. <br>\n",
    "이 클레임은 공개 클레임과 달리 이름이 중복되어 충돌될 수 있으니 유의해야 한다.<br>\n",
    "ex) {\"student_name\" : \"elice\"}"
   ]
  },
  {
   "cell_type": "markdown",
   "id": "wired-madagascar",
   "metadata": {},
   "source": [
    "## Signature<br>\n",
    "JWT의 마지막 부분인 서명은 토큰을 인코딩하거나 유효성 검증을 할 때 사용하는 고유한 암호화 코드이다.<br>\n",
    "서명은 헤더의 인코딩 값과 정보의 인코딩 값을 합친 후 주어진 비밀키로 해시를 하여 생성한다."
   ]
  },
  {
   "cell_type": "markdown",
   "id": "weird-venture",
   "metadata": {},
   "source": [
    "# JWT를 이용한 로그인 토큰 발급 실습<br>\n",
    "1. JWT 기능을 사용하기 위해 jwt 모듈을 import 하세요.\n",
    "2. 사용자 정보를 입력받고, 토큰을 발급받는 API 주소를 동일하게 사용하려고 합니다. jwt_route()에 GET과 POST를 구분 할 수 있도록 아래의 코드를 참고하여 조건문을 작성하세요.\n",
    "3. index.html에서는 ID와 PW를 각각 username과 password라는 변수에 담아 POST 방식으로 보냅니다. 작성된 API에서 POST로 보낸 변수들을 각각 id, pw 변수에 저장하세요.\n",
    "4. 토큰 발급 전, 서버에 저장되어있는 아이디와 패스워드의 값과 일치 하는지 확인하세요. 저장된 유저의 정보와 입력된 정보가 일치한다면 5번~7번까지의 과정을 작성하고, 일치하지 않는다면 화면에 return jsonify(\"User Not Found\")를 출력하세요.\n",
    "5. JWT 토큰에 넣을 사용자 변수를 만들기 위해 아래와 같이 dictionary로 선언하세요.\n",
    "6. 암호화 코드는 jwt.encode(암호화할 데이터, 시크릿키, 알고리즘)로 이루어져 있습니다. 인증이 완료된다면 화면에 encode 정보와 decode 정보를 같이 전송해줍니다. 아래의 코드를 참고하여 작성하세요.\n",
    "7. 데이터를 아래와 같이 dictionary로 묶어서 json 형태로 화면에 출력하세요.<br>\n",
    "\n",
    "```python\n",
    "from flask import Flask, request, render_template, jsonify\n",
    "# jwt 모듈을 import하세요.\n",
    "\n",
    "import jwt\n",
    "\n",
    "app = Flask(__name__)\n",
    "encryption_secret = \"secret_elice\"\n",
    "algorithm = \"HS256\"\n",
    "\n",
    "origin = {\"name\":\"elice\", \"password\":\"elice@1234\"}\n",
    "\n",
    "\n",
    "@app.route(\"/\", methods=[\"GET\",\"POST\"])\n",
    "def jwt_route():\n",
    "    # 조건문을 이용해 API 요청을 구분하세요.\n",
    "    \n",
    "    method = request.method\n",
    "    if method == 'POST':\n",
    "         # POST 방식으로 전송된 username과 password를 변수에 저장하세요.\n",
    "        id = request.form['username']\n",
    "        pw = request.form['password']\n",
    "         # origin에 저장된 name, password와 비교하세요.\n",
    "        if origin['name'] == id and origin['password'] == pw:\n",
    "         # 정보가 일치하는 경우 사용자 변수를 만들기 위한 dictionary를 선언하세요.\n",
    "            data_to_encode = {'name':id, 'password':pw}\n",
    "         # 인증이 완료되면 전송할 encode, decode 정보를 저장하세요.\n",
    "            encoded = jwt.encode(data_to_encode, encryption_secret, algorithm = algorithm).decode()\n",
    "             # 저장한 정보를 json 형태로 전송하세요.\n",
    "            decoded = jwt.decode(encoded, encryption_secret, algorithm = [algorithm])\n",
    "            data = {\"encode\" : encoded, \"decode\":decoded}\n",
    "        \n",
    "            return jsonify(data)\n",
    "        else:\n",
    "                # 정보가 일치하지 않는 경우 \"User Not Found\"를 화면에 출력하세요.\n",
    "            return jsonify(\"User Not Found\")\n",
    "\n",
    "    else:\n",
    "        return render_template(\"index.html\")\n",
    "    \n",
    "    \n",
    "    \n",
    "if __name__ == \"__main__\":\n",
    "    app.run(debug = True)\n",
    "```"
   ]
  }
 ],
 "metadata": {
  "kernelspec": {
   "display_name": "Python 3.9.2 64-bit",
   "language": "python",
   "name": "python392jvsc74a57bd0aee8b7b246df8f9039afb4144a1f6fd8d2ca17a180786b69acc140d282b71a49"
  },
  "language_info": {
   "codemirror_mode": {
    "name": "ipython",
    "version": 3
   },
   "file_extension": ".py",
   "mimetype": "text/x-python",
   "name": "python",
   "nbconvert_exporter": "python",
   "pygments_lexer": "ipython3",
   "version": "3.9.2"
  }
 },
 "nbformat": 4,
 "nbformat_minor": 5
}
