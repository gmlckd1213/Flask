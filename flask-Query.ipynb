{
 "cells": [
  {
   "cell_type": "markdown",
   "id": "commercial-creek",
   "metadata": {},
   "source": [
    "# Query"
   ]
  },
  {
   "cell_type": "markdown",
   "id": "overall-strengthening",
   "metadata": {},
   "source": [
    "## CRUD 예제 <br>\n",
    "models.py\n",
    "```python\n",
    "class Members(db.Model):\n",
    "    __tablename__ = 'my_user'\n",
    "    id = db.Column(db.Integer, primary_key=True, nullable=False)\n",
    "    name = db.Column(db.String(20), nullable=False)\n",
    "    age = db.Column(db.Integer, nullable=False)\n",
    "```\n",
    "<br>\n",
    "\n",
    "### Create: 데이터를 저장<br>\n",
    "\n",
    "|members = Members()|->|members.id = 1|->|db.session,.add(members)|\n",
    "|-|-|-|-|-|\n",
    "|||members.name = 'elice'||db.session.commit()|\n",
    "||| members.age = 20|||\n",
    "\n",
    "<br>\n",
    "\n",
    "### Read: 데이터를 읽기<br>\n",
    "members =db.session,query(Members).filter(Members.name == 'elice').all()\n",
    "\n",
    "<br><br>\n",
    "\n",
    "### Update: 데이터를 수정<br>\n",
    "\n",
    "<center>members =db.session,query(Members).filter(Members.name == 'elice').all()</center>\n",
    "<center>⬇️</center> \n",
    "<center>member.name='oliver'</center>\n",
    "<center>⬇️</center> \n",
    "<center>db.session.commit()</center>\n",
    "<br>\n",
    "\n",
    "### Delete: 데이터를 삭제<br>\n",
    "\n",
    "<center>me = db.session,query(Members).filter(Members.name == 'elice').first()</center>\n",
    "<center>⬇️</center> \n",
    "<center>db.session.delete(me)</center>\n",
    "<center>⬇️</center> \n",
    "<center>db.session.commit()</center>\n",
    "\n",
    "\n",
    "\n"
   ]
  },
  {
   "cell_type": "markdown",
   "id": "seven-disabled",
   "metadata": {},
   "source": [
    "# Query 사용법 - equal, not equal, like<br>\n",
    "\n",
    "지시사항<br>\n",
    "1. equal기능을 구현하세요.\n",
    "2. not equal기능을 구현하세요.\n",
    "3. like기능을 구현하세요.\n",
    "\n",
    "```python\n",
    "@app.route('/search', methods=['GET', 'POST'])\n",
    "def _search():\n",
    "    if request.method == 'POST':\n",
    "        key = request.form['keyword']\n",
    "        con = request.form['condition']\n",
    "        if(con=='1'):\n",
    "            # equal 기능을 구현하세요.\n",
    "            member_list = Member.query.filter(Member.age == key).all()\n",
    "        elif(con=='2'):\n",
    "            # not equal 기능을 구현하세요.\n",
    "            member_list = Member.query.filter(Member.age != key).all()\n",
    "        elif(con=='3'):\n",
    "            # like 기능을 구현하세요.\n",
    "            member_list = Member.query.filter(Member.age.like(f\"{key}%\")).order_by(Member.age)\n",
    "\n",
    "\n",
    "            \n",
    "        return render_template('member_list.html', member_list=member_list)\n",
    "    else:\n",
    "        return render_template('search.html')\n",
    "\n",
    "\n",
    "\n",
    "```"
   ]
  },
  {
   "cell_type": "markdown",
   "id": "tracked-modeling",
   "metadata": {},
   "source": [
    "# Query 사용법 - in, not in<br>\n",
    "\n",
    "지시사항<br>\n",
    "1. in 기능을 구현하세요. 쿼리의 맨 뒤에 .order_by(Member.age) 를 붙여서 결과값을 정렬 해 주세요.\n",
    "2. not in 기능을 구현하세요. 쿼리 맨 뒤에.order_by(Member.age) 를 붙여서 결과값을 정렬 해 주세요.\n",
    "\n",
    "```python\n",
    "def _search():\n",
    "    if request.method == 'POST':\n",
    "        key1 = request.form['keyword1']\n",
    "        key2 = request.form['keyword2']\n",
    "        con = request.form['condition']\n",
    "        if(con=='1'):\n",
    "            # in 기능을 구현하세요.\n",
    "            member_list = Member.query.filter(Member.age.in_([key1,key2])).order_by(Member.age)\n",
    "\n",
    "\n",
    "\n",
    "        elif(con=='2'):\n",
    "            # not in 기능을 구현하세요.\n",
    "            member_list = Member.query.filter(~Member.age.in_([key1,key2])).order_by(Member.age)\n",
    "\n",
    "        return render_template('member_list.html', member_list=member_list)\n",
    "    else:\n",
    "        return render_template('search.html')\n",
    "\n",
    "\n",
    "```"
   ]
  },
  {
   "cell_type": "markdown",
   "id": "indirect-synthesis",
   "metadata": {},
   "source": [
    "# Query 사용법 - is null. is not null<br>\n",
    "\n",
    "지시사항<br>\n",
    "1. is null기능을 구현하세요.\n",
    "2. is not null기능을 구현하세요.<br>\n",
    "```python\n",
    "def _search():\n",
    "    if request.method == 'POST':\n",
    "        con = request.form['condition']\n",
    "        if(con=='1'):\n",
    "            # is null 기능을 구현하세요.\n",
    "            member_list = Member.query.filter(Member.name == None).all()\n",
    "        elif(con=='2'):\n",
    "            # is not null 기능을 구현하세요.\n",
    "            member_list = Member.query.filter(Member.name != None).all()\n",
    "        return render_template('member_list.html', member_list=member_list)\n",
    "    else:\n",
    "        return render_template('search.html')\n",
    "```"
   ]
  },
  {
   "cell_type": "markdown",
   "id": "editorial-marsh",
   "metadata": {},
   "source": [
    "# Query 사용법 - and, or<br>\n",
    "\n",
    "지시사항<br>\n",
    "1. and 기능을 구현하세요.\n",
    "2. or 기능을 구현하세요.<br>\n",
    "\n",
    "```python\n",
    "def _search():\n",
    "    if request.method == 'POST':\n",
    "        key1 = request.form['keyword1']\n",
    "        key2 = request.form['keyword2']\n",
    "        con = request.form['condition']\n",
    "        if(con=='1'):\n",
    "            # and 기능을 구현하세요.\n",
    "            member_list = Member.query.filter((Member.name == key1) & (Member.age == key2)).all()\n",
    "\n",
    "        elif(con=='2'):\n",
    "            # or 기능을 구현하세요.\n",
    "            member_list = Member.query.filter((Member.name == key1) | (Member.age == key2)).all()\n",
    "\n",
    "        return render_template('member_list.html', member_list=member_list)\n",
    "    else:\n",
    "        return render_template('search.html')\n",
    "```"
   ]
  },
  {
   "cell_type": "markdown",
   "id": "empirical-juvenile",
   "metadata": {},
   "source": [
    "# Query 사용법 - order by<br>\n",
    "\n",
    "지시사항<br>\n",
    "1. order by 기능을 구현하세요.<br>\n",
    "```python\n",
    "def _list():\n",
    "    # order by 기능을 구현하세요.\n",
    "    member_list = Member.query.order_by(Member.age)\n",
    "    return render_template('member_list.html', member_list=member_list)\n",
    "```"
   ]
  },
  {
   "cell_type": "markdown",
   "id": "manufactured-payment",
   "metadata": {},
   "source": [
    "# Query 사용법 -  limit, offset, count<br>\n",
    "\n",
    "지시사항<br>\n",
    "1. limit, offset 기능을 구현하세요. limit과 offset을 설정하기 전에 Member의 age를 내림차순으로 정렬 해 주세요.\n",
    "2. cnt 변수에 쿼리문 실행 결과 추출된 튜플 수를 저장하세요.<br>\n",
    "\n",
    "```python\n",
    "def _list():\n",
    "    if(request.method == 'POST'):\n",
    "        limit_num = request.form['limi']\n",
    "        offset_num = request.form['offs']\n",
    "        # limit과 offset 기능을 구현하세요.\n",
    "        member_list = Member.query.order_by(Member.age.desc()).limit(limit_num).offset(offset_num)\n",
    "        # cnt 변수에 쿼리문 실행 결과 추출된 튜플 수를 저장하세요.\n",
    "        cnt = member_list.count()\n",
    "        return render_template('member_list.html', cnt = cnt, member_list=member_list)\n",
    "    else:\n",
    "        member_list = Member.query.order_by(Member.age.desc())\n",
    "        return render_template('member_list.html', cnt = member_list.count(), member_list=member_list)\n",
    "```"
   ]
  },
  {
   "cell_type": "markdown",
   "id": "civilian-understanding",
   "metadata": {},
   "source": []
  },
  {
   "cell_type": "markdown",
   "id": "advisory-giant",
   "metadata": {},
   "source": []
  },
  {
   "cell_type": "markdown",
   "id": "institutional-insertion",
   "metadata": {},
   "source": []
  },
  {
   "cell_type": "markdown",
   "id": "drawn-official",
   "metadata": {},
   "source": []
  },
  {
   "cell_type": "markdown",
   "id": "raising-toner",
   "metadata": {},
   "source": []
  },
  {
   "cell_type": "markdown",
   "id": "considerable-uzbekistan",
   "metadata": {},
   "source": []
  },
  {
   "cell_type": "markdown",
   "id": "unexpected-shame",
   "metadata": {},
   "source": []
  },
  {
   "cell_type": "markdown",
   "id": "supreme-conclusion",
   "metadata": {},
   "source": []
  },
  {
   "cell_type": "markdown",
   "id": "strategic-observer",
   "metadata": {},
   "source": []
  },
  {
   "cell_type": "markdown",
   "id": "dress-mortality",
   "metadata": {},
   "source": []
  },
  {
   "cell_type": "markdown",
   "id": "aggregate-bibliography",
   "metadata": {},
   "source": []
  },
  {
   "cell_type": "markdown",
   "id": "ordinary-spectrum",
   "metadata": {},
   "source": []
  }
 ],
 "metadata": {
  "kernelspec": {
   "display_name": "Python 3.9.2 64-bit",
   "language": "python",
   "name": "python392jvsc74a57bd0aee8b7b246df8f9039afb4144a1f6fd8d2ca17a180786b69acc140d282b71a49"
  },
  "language_info": {
   "codemirror_mode": {
    "name": "ipython",
    "version": 3
   },
   "file_extension": ".py",
   "mimetype": "text/x-python",
   "name": "python",
   "nbconvert_exporter": "python",
   "pygments_lexer": "ipython3",
   "version": "3.9.2"
  }
 },
 "nbformat": 4,
 "nbformat_minor": 5
}
