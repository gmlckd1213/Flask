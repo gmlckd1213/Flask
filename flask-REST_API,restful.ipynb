{
 "cells": [
  {
   "cell_type": "markdown",
   "id": "incorporate-literature",
   "metadata": {},
   "source": [
    "# REST API?\n",
    "\n",
    "REST는 자원을 이름으로 구분하여 해당자원의 상태를 주고 받는 모든 것을 의미한다.<br>\n",
    "한마디로 정리하면, 자원의 표현에 의한 상태 전달입니다.\n",
    "\n",
    "<br>\n",
    "\n",
    "### REST의 구성과 특징\n",
    "\n",
    "자원 - URI에 표현이 되어야함 -> 무엇을 서버에 요청할 것인지\n",
    "행위 - HTTP Method -> 어떻게 요청할 것인지\n",
    "표현 - Representations -> API만 보고 무엇을 요청할 것인지 알 수 있도록\n",
    "\n",
    "<br>\n",
    "REST 서버는 API 제공, 클라이언트는 사용자 인증 등을 직접 관리하는 구조로 각각의 역할이 확실히 구분되기 때문에 클라이언트와 서버에서 개발해야할 내용이 명확해지고 서로 간 의존성이 줄어들게됩니다.<br>\n",
    "REST는 상태 정보를 따로 저장하고 관리하지 않습니다. <br>\n",
    "세션 정보나 쿠키 정보를 별도로 저장하고 관리하지 않기 때문에 API 서버는 들어오는 요청만을 단순히 처리하면 됩니다. 서비스의 자유도가 높아지고 서버에서 불필요한 정보를 관리하지 않음으로써 구현이 단순해집니다."
   ]
  },
  {
   "cell_type": "markdown",
   "id": "capital-german",
   "metadata": {},
   "source": [
    "### REST API 디자인 가이드\n",
    "\n",
    "#### 1. URI는 자원을 표현해야함\n",
    "\n",
    "REST API로 요청할 때에, URI에서 어떤 데이터를 요청하는지 표현이 되어야 합니다.\n",
    "<br>\n",
    "\n",
    "#### 2. 자원에 대한 행위는 HTTP Method로 나타내야 함\n",
    "\n",
    "자원에 대한 동작을 꼭 표현해야 합니다.<br>\n",
    "REST API에서 동작을 표현하는 방법은 HTTP Method입니다.<br>\n",
    "- GET : 조회, GET을 통해 리소스를 조회합니다.\n",
    "- POST : 생성, 요청된 리소스를 생성합니다.\n",
    "- PUT : 수정, 리소스를 업데이트(수정)합니다.\n",
    "- DELETE : 삭제 - DELETE를 통해 리소스를 삭제합니다.\n",
    "\n",
    "<br>\n",
    "\n",
    "### REST API 디자인 예시\n",
    "\n",
    "#### 1. 리소스 요청은 주로 동사보다는 명사를 사용\n",
    "\n",
    "ex) GET/members/delete/1, DELETE/members/1\n",
    "\n",
    "<br><br>\n",
    "\n",
    "#### 2. 슬래시(/)는 계층 관계를 나타냄\n",
    "ex) htttp://elice.example.co.kr/lecture/python\n",
    "\n",
    "<br><br>\n",
    "\n",
    "#### 3. 파일 확장자는 URL에 포함하지 않음\n",
    "ex) http://elice.example.co.kr/lecture/image/1.jpg<br>\n",
    "GET elice.example.co.kr/lecture/image/1\n",
    "\n",
    "<br><br>\n",
    "\n",
    "#### 4. 긴 URI에서는 밑줄( _ ) 보다는 하이픈( - )을 사용\n",
    "ex) http://elice.example.co.kr/board/free-talk\n"
   ]
  },
  {
   "cell_type": "markdown",
   "id": "broadband-vietnamese",
   "metadata": {},
   "source": [
    "# HTTP 응답 상태코드\n",
    "\n",
    "|상태 코드|내용|\n",
    "|-|-|\n",
    "|200|정상적으로 수행|\n",
    "|201|성공적으로 리소스 생성|\n",
    "|400|클라이언트의 요청이 부적절할 때|\n",
    "|401|인증되지 않은 상태에서 리소스 요청|\n",
    "|404|응답하고 싶지 않은 리소스, 혹은 없는 리소스를 요청|\n",
    "|500|서버에 문제가 생겼을 때|\n"
   ]
  },
  {
   "cell_type": "markdown",
   "id": "offensive-pharmacy",
   "metadata": {},
   "source": [
    "# Flask-restful\n",
    "\n",
    "Flask는 return 값을 jsonify로 주어서 RESTful API를 만들 수 있습니다.\n",
    "하지만, 좀 더 RESTful에 맞게 서버를 만들 수 있는 라이브러리가 있습니다.\n"
   ]
  },
  {
   "cell_type": "markdown",
   "id": "miniature-amendment",
   "metadata": {},
   "source": [
    "### CREATE 구현\n",
    "지시사항\n",
    "1. form을 통해 전달받은 name과 context를 board 리스트에 추가하는 코드를 create() 메소드에 추가하세요.\n",
    "\n",
    "2. create() 메소드에서 JSON 형태의 데이터를 반환하세요. 반환되는 데이터는 다음과 같습니다.\n",
    "\n",
    "```python\n",
    "from flask import Flask, render_template, request, redirect, url_for, jsonify\n",
    "import json\n",
    "\n",
    "\n",
    "app = Flask(__name__)\n",
    "\n",
    "board = []\n",
    "\n",
    "@app.route('/')\n",
    "def index():\n",
    "    return render_template('Board.html', rows = board)\n",
    "\n",
    "@app.route('/board', methods = ['GET','POST'])\n",
    "def create():\n",
    "    # name과 context를 board 리스트에 추가하세요.\n",
    "    if request.method == 'POST':\n",
    "        board.append([request.form['name'], request.form['context']])\n",
    "        return redirect(url_for('index'))\n",
    "    else:\n",
    "        return jsonify({\"status\":200, \"result\":{\"id\":len(board)}})\n",
    "    # 지시사항의 표를 참고하여 JSON 데이터를 반환하세요.\n",
    "    \n",
    "    \n",
    "if __name__ == '__main__':\n",
    "    app.run(debug=True)\n",
    "\n",
    "```"
   ]
  },
  {
   "cell_type": "markdown",
   "id": "about-fence",
   "metadata": {},
   "source": [
    "### READ 구현\n",
    "지시사항<br>\n",
    "read() 메소드에서 JSON 형태의 데이터를 반환하세요. 반환되는 데이터는 다음과 같습니다\n",
    "\n",
    "```python\n",
    "from flask import Flask, render_template, request, redirect, url_for, jsonify\n",
    "import json\n",
    "\n",
    "\n",
    "app = Flask(__name__)\n",
    "\n",
    "board = []\n",
    "\n",
    "@app.route('/')\n",
    "def index():\n",
    "    return render_template('Board.html', rows = board)\n",
    "\n",
    "@app.route('/board', methods = ['POST'])\n",
    "def create():\n",
    "    board.append([request.form['name'], request.form['context']])\n",
    "    \n",
    "    return redirect(url_for('index'))\n",
    "\n",
    "\n",
    "@app.route('/board', methods = ['GET'])\n",
    "def read():\n",
    "    # 지시사항의 표를 참고하여 JSON 데이터를 반환하세요.\n",
    "    \n",
    "    return jsonify({\"status\":200, \"result\":board})\n",
    "\n",
    "\n",
    "    \n",
    "if __name__ == '__main__':\n",
    "    app.run(debug=True)\n",
    "\n",
    "```"
   ]
  },
  {
   "cell_type": "markdown",
   "id": "funny-wrestling",
   "metadata": {},
   "source": []
  },
  {
   "cell_type": "markdown",
   "id": "greek-respondent",
   "metadata": {},
   "source": []
  },
  {
   "cell_type": "markdown",
   "id": "encouraging-satin",
   "metadata": {},
   "source": []
  },
  {
   "cell_type": "markdown",
   "id": "three-edinburgh",
   "metadata": {},
   "source": []
  },
  {
   "cell_type": "markdown",
   "id": "operating-indie",
   "metadata": {},
   "source": []
  },
  {
   "cell_type": "markdown",
   "id": "herbal-fountain",
   "metadata": {},
   "source": []
  },
  {
   "cell_type": "markdown",
   "id": "coated-citizen",
   "metadata": {},
   "source": []
  }
 ],
 "metadata": {
  "kernelspec": {
   "display_name": "Python 3.9.2 64-bit",
   "language": "python",
   "name": "python392jvsc74a57bd0aee8b7b246df8f9039afb4144a1f6fd8d2ca17a180786b69acc140d282b71a49"
  },
  "language_info": {
   "codemirror_mode": {
    "name": "ipython",
    "version": 3
   },
   "file_extension": ".py",
   "mimetype": "text/x-python",
   "name": "python",
   "nbconvert_exporter": "python",
   "pygments_lexer": "ipython3",
   "version": "3.9.2"
  }
 },
 "nbformat": 4,
 "nbformat_minor": 5
}
