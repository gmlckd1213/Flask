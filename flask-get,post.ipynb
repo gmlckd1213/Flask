{
 "cells": [
  {
   "cell_type": "markdown",
   "id": "separated-idaho",
   "metadata": {},
   "source": [
    "# Flask 기초"
   ]
  },
  {
   "cell_type": "markdown",
   "id": "brief-probability",
   "metadata": {},
   "source": [
    "## 1. 웹 서버의 동작 과정  <br>\n",
    "\n",
    "<span style=\"color:blue\">클라이언트</span> : 사용자/ 내 컴퓨터 / 크롬 등..\n",
    "\n",
    "<span style=\"color:red\">서버</span> : 클라이언트로부터 요청을 받아서 처리해 주고, '응답'으로 데이터를 돌려주는 곳<br><br>\n",
    "\n",
    "클라이언트가 서버로 요청을 하고, 요청을 받은 서버는 요청에 해당하는 데이터를 응답으로 돌려주게 됩니다.\n",
    "\n",
    "서버의 응답으로 클라이언트가 보게 되는 데이터는 HTML, JSON, XML 등 다양한 형태가 될 수 있습니다. \n"
   ]
  },
  {
   "cell_type": "markdown",
   "id": "collect-peace",
   "metadata": {},
   "source": [
    "#### API란?<br>\n",
    "\n",
    "정해진 방식으로 데이터의 통로 역할을 하는 것"
   ]
  },
  {
   "cell_type": "markdown",
   "id": "north-expense",
   "metadata": {},
   "source": [
    "#### Framework란?<br>\n",
    "\n",
    "하나의 결과물으 만들기 위해서 제공하는 '틀' 미리 작성되어 있는 함수 (라이브러리) 이사으이 기능을 제공"
   ]
  },
  {
   "cell_type": "markdown",
   "id": "individual-contamination",
   "metadata": {},
   "source": [
    "### Flask Framework<br>\n",
    "\n",
    "Flask는 Python을 사용해서 웹 서버를 만들 수 있게 도와주는 Web Framework"
   ]
  },
  {
   "cell_type": "markdown",
   "id": "liked-crisis",
   "metadata": {},
   "source": [
    "##### Django  --> 사용 하 수 있는 기능이 많다.\n",
    "##### Flask, Pyramid, Bottle --> 개발이 자유롭다. "
   ]
  },
  {
   "cell_type": "markdown",
   "id": "average-toddler",
   "metadata": {},
   "source": [
    "#### Flask FrameWork의 장점\n",
    "\n",
    "1. 나만의 서버를 쉽게 작성할 수 있다.\n",
    "2. 간단한 코드로 빠르게 실행 할 수 있다.\n",
    "3. 원하는 기능을 유연하게 확장하기 편리하다."
   ]
  },
  {
   "cell_type": "markdown",
   "id": "strange-circular",
   "metadata": {},
   "source": [
    "```python\n",
    "from flask import Flask #Flask 패키지에서 Flask import\n",
    "app = Flask(__name__)\n",
    "\n",
    "@app.route(\"/\")  #서버에 접속 할 수 있는 url을 만들어 줍니다. \n",
    "def elice():\n",
    "    return \"helo elice\"\n",
    "\n",
    "if __name__ == \"__main__\":\n",
    "    app.run()\n",
    "```    "
   ]
  },
  {
   "cell_type": "markdown",
   "id": "stunning-poverty",
   "metadata": {},
   "source": [
    "#### JSON 형식의 데이터 나타내기"
   ]
  },
  {
   "cell_type": "markdown",
   "id": "velvet-trader",
   "metadata": {},
   "source": [
    "```python\n",
    "from flask import Flask, jsonify\n",
    "app = Flask(__name__)\n",
    "\n",
    "@app.route(\"/\")  #서버에 접속 할 수 있는 url을 만들어 줍니다. \n",
    "def elice():\n",
    "    my_data ={\"name\":\"elice\"}\n",
    "    return jsonify\n",
    "\n",
    "if __name__ == \"__main__\":\n",
    "    app.run()\n",
    "```"
   ]
  },
  {
   "cell_type": "markdown",
   "id": "caroline-drawing",
   "metadata": {},
   "source": [
    "#### HTML 형식의 데이터 나타내기 "
   ]
  },
  {
   "cell_type": "markdown",
   "id": "failing-process",
   "metadata": {},
   "source": [
    "-html을 화면에 전달하기 위해서는 html 파일이 필요합니다.<br>\n",
    "-html파일은 templates라는 폴더 아래 넣어주어야합니다.<br>\n",
    "-templates 폴더에 html 파일을 넣어 놓으면 flask가 자동으로 찾아서 연결해준다."
   ]
  },
  {
   "cell_type": "markdown",
   "id": "varying-delaware",
   "metadata": {},
   "source": [
    "```python\n",
    "from flask import Flask, render_template\n",
    "app = Flask(__name__)\n",
    "\n",
    "@app.route(\"/\")  #서버에 접속 할 수 있는 url을 만들어 줍니다. \n",
    "def elice():\n",
    "    return render_template(\"index.html\")\n",
    "\n",
    "if __name__ == \"__main__\":\n",
    "    app.run()\n",
    "```"
   ]
  },
  {
   "cell_type": "markdown",
   "id": "adapted-subject",
   "metadata": {},
   "source": [
    "# REST API의 개념<br>\n",
    "\n",
    "HTTP URL을 통해 데이터의 자원을 표현하고 HTTP Method를 통해서 데이터를 다루는 방법을 의미합니다.<br>\n",
    "Database, 이미지, 텍스트 등의 다양한 데이터에 적용 할 수 있습니다."
   ]
  },
  {
   "cell_type": "markdown",
   "id": "actual-fleece",
   "metadata": {},
   "source": [
    "## REST API는 아래와 같이 표한 할 수 있다.<br>\n",
    "\n",
    "- HTTP URI(Uniform Resource Identifier)를 통해 자원을 명시하고, <span style=\"color:red\">HTTP Method</span>를 통해 해당 자원에 대한 <span style=\"color:red\">CRUD Operation</span>을 적용하는 것<br>\n",
    "- 다양한 클라이언트가 생겨남에 따라서 REST API가 필요하다.<br>\n",
    "- REST API는 메시지가 의도하는 바를 URL에서 나타내므로, 쉽게 기능을 파악 할 수 있다.<br>\n",
    "- HTTP 표준 프로토콜에 따르는 플랫폼에서 사용가능하다.<br>\n",
    "- 서버와 클라이언트의 구분을 명확하게 할 수 있다.<br>\n",
    "- REST API의 표준이 존재하지 않는 단점이 있다.\n"
   ]
  },
  {
   "cell_type": "markdown",
   "id": "quiet-amino",
   "metadata": {},
   "source": [
    "<span style=\"color:skyblue\">CRUD</span><br>\n",
    "- Create 생성\n",
    "- Read 조회\n",
    "- Update 수정\n",
    "- Delete 삭제\n",
    "\n",
    "<span style=\"color:skyblue\">HTTP Method</span><br>\n",
    "- GET 조회\n",
    "- POST 생성/수정/삭제\n"
   ]
  },
  {
   "cell_type": "markdown",
   "id": "flying-gambling",
   "metadata": {},
   "source": [
    "# <span style=\"color:skyblue\">HTTP Method</span> 개념 - GET/POST"
   ]
  },
  {
   "cell_type": "markdown",
   "id": "streaming-wright",
   "metadata": {},
   "source": [
    "GET과 POST는 HTTP Method 중 하나다.<br>\n",
    "GET은 데이터를 URL 뒤에 ?와 함께 사용한다.<br>\n",
    "POST는 특정양식에 데이터를 넣어 전송하는 방법이다"
   ]
  },
  {
   "cell_type": "markdown",
   "id": "helpful-thunder",
   "metadata": {},
   "source": [
    "## GET방식의 예시\n",
    "\n",
    "http://사이트의_주소?데이터=123\n",
    "\n",
    "GET의 예시 -> **url 뒤에 물음표를 붙여서** 데이터를 서버에 전송\n",
    "    "
   ]
  },
  {
   "cell_type": "markdown",
   "id": "sporting-championship",
   "metadata": {},
   "source": [
    "## POST방식의 예시\n",
    "http://사이트의_주소\n",
    "POST의 예시 -> **일정한 양식에 담아 데이터를 숨겨**서 서버에 전송"
   ]
  },
  {
   "cell_type": "markdown",
   "id": "derived-stewart",
   "metadata": {},
   "source": [
    "@app.route(\"url1\", methods = [\"GET\"])--> get메서드만 사용가능<br>\n",
    "@app.route(\"url2\", methods = [\"POST\"])--> post메서드만 사용가능 <br>\n",
    "@app.route(\"url3\", methods = [\"GET\", \"POST\"])--> 둘 다 사용가능  \n",
    "\n",
    "\n",
    "\n",
    "\n"
   ]
  },
  {
   "cell_type": "markdown",
   "id": "prerequisite-librarian",
   "metadata": {},
   "source": [
    "GET방식으로 데이터 전달및 request.args 로 데이터를 받는 실습"
   ]
  },
  {
   "cell_type": "markdown",
   "id": "received-russian",
   "metadata": {},
   "source": [
    "```python\n",
    "from flask import Flask, jsonify, request\n",
    "app = Flask(__name__)\n",
    "@app.route(\"/\", methods = [\"GET\"])\n",
    "def elice():\n",
    "    name = request.args.get('name')\n",
    "    return jsonify(name)\n",
    "\n",
    "if __name__ == \"__main__\":\n",
    "    app.run()\n",
    "```"
   ]
  },
  {
   "cell_type": "code",
   "execution_count": null,
   "id": "registered-vietnamese",
   "metadata": {},
   "outputs": [],
   "source": []
  },
  {
   "cell_type": "code",
   "execution_count": null,
   "id": "electronic-integrity",
   "metadata": {},
   "outputs": [],
   "source": []
  },
  {
   "cell_type": "code",
   "execution_count": null,
   "id": "isolated-treat",
   "metadata": {},
   "outputs": [],
   "source": []
  },
  {
   "cell_type": "code",
   "execution_count": null,
   "id": "surface-protest",
   "metadata": {},
   "outputs": [],
   "source": []
  },
  {
   "cell_type": "code",
   "execution_count": null,
   "id": "liquid-speech",
   "metadata": {},
   "outputs": [],
   "source": []
  },
  {
   "cell_type": "code",
   "execution_count": null,
   "id": "prospective-strain",
   "metadata": {},
   "outputs": [],
   "source": []
  }
 ],
 "metadata": {
  "kernelspec": {
   "display_name": "Python 3",
   "language": "python",
   "name": "python3"
  },
  "language_info": {
   "codemirror_mode": {
    "name": "ipython",
    "version": 3
   },
   "file_extension": ".py",
   "mimetype": "text/x-python",
   "name": "python",
   "nbconvert_exporter": "python",
   "pygments_lexer": "ipython3",
   "version": "3.9.2"
  }
 },
 "nbformat": 4,
 "nbformat_minor": 5
}
