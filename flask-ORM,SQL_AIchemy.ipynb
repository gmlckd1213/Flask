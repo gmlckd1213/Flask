{
 "cells": [
  {
   "cell_type": "markdown",
   "id": "exclusive-swaziland",
   "metadata": {},
   "source": [
    "# ORM이란?\n",
    "데이터베이스에 객체를 통해 접근하는 방법을 ORM(Object Relational Mapping, *객체 관계 매핑*)이라고 한다.<br>\n",
    "ORM은 SQL질의어가 없어도 데이터베이스를 다룰 수 있도록 도와준다."
   ]
  },
  {
   "cell_type": "markdown",
   "id": "australian-semiconductor",
   "metadata": {},
   "source": [
    "## 테이블 예시\n",
    "|name|age|\n",
    "|--|--|\n",
    "|엘리스|15|\n",
    "|도도|16|\n",
    "|체셔|17|\n",
    "\n",
    "<br>\n",
    "\n",
    "### SQL 쿼리문 <br>\n",
    "```sql\n",
    "INSERT INTO 엘리스 (멤버, 나이) VALUES('여왕','18');\n",
    "```\n",
    "<br>\n",
    "\n",
    "### ORM\n",
    "```python\n",
    "member1 = Member()\n",
    "member1.name='여왕'\n",
    "member1.age='18'\n",
    "db.session.add(member1)\n",
    "db.session.commit()\n",
    "```\n",
    "\n"
   ]
  },
  {
   "cell_type": "markdown",
   "id": "blind-romantic",
   "metadata": {},
   "source": [
    "# ORM의 장점\n",
    "- DB에 대한 큰 고민 없이, 데이터베이스를 코드로 다룰 수 있다.<br>\n",
    "- 테이블 구조가 변결될 때, ORM 모델만 수정하면 된다.<br>\n",
    "- 코드로 작성하기 때문에 쿼리를 직관적으로 이해할 수 있다."
   ]
  },
  {
   "cell_type": "markdown",
   "id": "swedish-organization",
   "metadata": {},
   "source": [
    "# SQL AIchemy란?\n",
    "파이썬 ORM 라이브러리 -> 파이썬 코드에서 Database와 연결하기 위해 사용할 수 있는 라이브러리이다.<br>\n",
    "- 프로그램 유지 보수가 편리\n",
    "- 프로그래밍 언어로 객체간의 관계를 표현할 수 있다.\n",
    "- SQLAlchemy를 사용하면 SQL쿼리를 사용하지 않고 프로그래밍 언어로 객체간 표현이 가능하다.\n",
    "- SQLAichemy를 이용하면 SQL 쿼리 오류가 발생할 확률이 적다."
   ]
  }
 ],
 "metadata": {
  "kernelspec": {
   "display_name": "Python 3.9.2 64-bit",
   "language": "python",
   "name": "python392jvsc74a57bd0aee8b7b246df8f9039afb4144a1f6fd8d2ca17a180786b69acc140d282b71a49"
  },
  "language_info": {
   "codemirror_mode": {
    "name": "ipython",
    "version": 3
   },
   "file_extension": ".py",
   "mimetype": "text/x-python",
   "name": "python",
   "nbconvert_exporter": "python",
   "pygments_lexer": "ipython3",
   "version": "3.9.2"
  }
 },
 "nbformat": 4,
 "nbformat_minor": 5
}
